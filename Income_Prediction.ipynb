{
  "cells": [
    {
      "cell_type": "code",
      "execution_count": 117,
      "id": "50aeb291",
      "metadata": {
        "id": "50aeb291"
      },
      "outputs": [],
      "source": [
        "import numpy as np\n",
        "import pandas as pd\n",
        "import matplotlib.pyplot as plt \n",
        "import scipy \n",
        "import scipy.stats"
      ]
    },
    {
      "cell_type": "code",
      "execution_count": 118,
      "id": "dfdb3430",
      "metadata": {
        "id": "dfdb3430"
      },
      "outputs": [],
      "source": [
        "data = pd.read_csv(r\"/content/income.csv\")"
      ]
    },
    {
      "cell_type": "code",
      "execution_count": 119,
      "id": "e6ea5943",
      "metadata": {
        "colab": {
          "base_uri": "https://localhost:8080/",
          "height": 285
        },
        "id": "e6ea5943",
        "outputId": "b67fbbb5-0f28-4b2e-f341-18dedcbf9249"
      },
      "outputs": [
        {
          "output_type": "execute_result",
          "data": {
            "text/html": [
              "\n",
              "  <div id=\"df-5b3a0cff-fda0-47df-867c-3dd3baca1a1b\">\n",
              "    <div class=\"colab-df-container\">\n",
              "      <div>\n",
              "<style scoped>\n",
              "    .dataframe tbody tr th:only-of-type {\n",
              "        vertical-align: middle;\n",
              "    }\n",
              "\n",
              "    .dataframe tbody tr th {\n",
              "        vertical-align: top;\n",
              "    }\n",
              "\n",
              "    .dataframe thead th {\n",
              "        text-align: right;\n",
              "    }\n",
              "</style>\n",
              "<table border=\"1\" class=\"dataframe\">\n",
              "  <thead>\n",
              "    <tr style=\"text-align: right;\">\n",
              "      <th></th>\n",
              "      <th>Parent 1 Highest Grade</th>\n",
              "      <th>Race</th>\n",
              "      <th>Sex</th>\n",
              "      <th>Self Esteem Score</th>\n",
              "      <th>AFQT Percentile Score</th>\n",
              "      <th>Type of Residence 1983</th>\n",
              "      <th>Average Drinks 2008</th>\n",
              "      <th>Highest Grade</th>\n",
              "      <th>Fam Size 1979</th>\n",
              "      <th>Foreign Language</th>\n",
              "      <th>Library Card</th>\n",
              "      <th>Parent Cohabitation</th>\n",
              "      <th>Number Siblings</th>\n",
              "      <th>First Marijuana Use</th>\n",
              "      <th>Income 2018</th>\n",
              "    </tr>\n",
              "  </thead>\n",
              "  <tbody>\n",
              "    <tr>\n",
              "      <th>0</th>\n",
              "      <td>12</td>\n",
              "      <td>3</td>\n",
              "      <td>2</td>\n",
              "      <td>-5</td>\n",
              "      <td>-4</td>\n",
              "      <td>-5</td>\n",
              "      <td>-5</td>\n",
              "      <td>12</td>\n",
              "      <td>5</td>\n",
              "      <td>1</td>\n",
              "      <td>1</td>\n",
              "      <td>-4</td>\n",
              "      <td>1</td>\n",
              "      <td>-5</td>\n",
              "      <td>-5</td>\n",
              "    </tr>\n",
              "    <tr>\n",
              "      <th>1</th>\n",
              "      <td>8</td>\n",
              "      <td>3</td>\n",
              "      <td>2</td>\n",
              "      <td>16</td>\n",
              "      <td>6841</td>\n",
              "      <td>-4</td>\n",
              "      <td>-4</td>\n",
              "      <td>12</td>\n",
              "      <td>5</td>\n",
              "      <td>1</td>\n",
              "      <td>1</td>\n",
              "      <td>-4</td>\n",
              "      <td>8</td>\n",
              "      <td>-4</td>\n",
              "      <td>25000</td>\n",
              "    </tr>\n",
              "    <tr>\n",
              "      <th>2</th>\n",
              "      <td>10</td>\n",
              "      <td>3</td>\n",
              "      <td>2</td>\n",
              "      <td>20</td>\n",
              "      <td>49444</td>\n",
              "      <td>11</td>\n",
              "      <td>2</td>\n",
              "      <td>12</td>\n",
              "      <td>5</td>\n",
              "      <td>0</td>\n",
              "      <td>1</td>\n",
              "      <td>-4</td>\n",
              "      <td>3</td>\n",
              "      <td>12</td>\n",
              "      <td>80000</td>\n",
              "    </tr>\n",
              "    <tr>\n",
              "      <th>3</th>\n",
              "      <td>10</td>\n",
              "      <td>3</td>\n",
              "      <td>2</td>\n",
              "      <td>-5</td>\n",
              "      <td>55761</td>\n",
              "      <td>11</td>\n",
              "      <td>-5</td>\n",
              "      <td>14</td>\n",
              "      <td>5</td>\n",
              "      <td>0</td>\n",
              "      <td>0</td>\n",
              "      <td>-4</td>\n",
              "      <td>3</td>\n",
              "      <td>-5</td>\n",
              "      <td>0</td>\n",
              "    </tr>\n",
              "    <tr>\n",
              "      <th>4</th>\n",
              "      <td>13</td>\n",
              "      <td>3</td>\n",
              "      <td>1</td>\n",
              "      <td>23</td>\n",
              "      <td>96772</td>\n",
              "      <td>3</td>\n",
              "      <td>-5</td>\n",
              "      <td>18</td>\n",
              "      <td>4</td>\n",
              "      <td>0</td>\n",
              "      <td>1</td>\n",
              "      <td>-4</td>\n",
              "      <td>1</td>\n",
              "      <td>-5</td>\n",
              "      <td>-5</td>\n",
              "    </tr>\n",
              "  </tbody>\n",
              "</table>\n",
              "</div>\n",
              "      <button class=\"colab-df-convert\" onclick=\"convertToInteractive('df-5b3a0cff-fda0-47df-867c-3dd3baca1a1b')\"\n",
              "              title=\"Convert this dataframe to an interactive table.\"\n",
              "              style=\"display:none;\">\n",
              "        \n",
              "  <svg xmlns=\"http://www.w3.org/2000/svg\" height=\"24px\"viewBox=\"0 0 24 24\"\n",
              "       width=\"24px\">\n",
              "    <path d=\"M0 0h24v24H0V0z\" fill=\"none\"/>\n",
              "    <path d=\"M18.56 5.44l.94 2.06.94-2.06 2.06-.94-2.06-.94-.94-2.06-.94 2.06-2.06.94zm-11 1L8.5 8.5l.94-2.06 2.06-.94-2.06-.94L8.5 2.5l-.94 2.06-2.06.94zm10 10l.94 2.06.94-2.06 2.06-.94-2.06-.94-.94-2.06-.94 2.06-2.06.94z\"/><path d=\"M17.41 7.96l-1.37-1.37c-.4-.4-.92-.59-1.43-.59-.52 0-1.04.2-1.43.59L10.3 9.45l-7.72 7.72c-.78.78-.78 2.05 0 2.83L4 21.41c.39.39.9.59 1.41.59.51 0 1.02-.2 1.41-.59l7.78-7.78 2.81-2.81c.8-.78.8-2.07 0-2.86zM5.41 20L4 18.59l7.72-7.72 1.47 1.35L5.41 20z\"/>\n",
              "  </svg>\n",
              "      </button>\n",
              "      \n",
              "  <style>\n",
              "    .colab-df-container {\n",
              "      display:flex;\n",
              "      flex-wrap:wrap;\n",
              "      gap: 12px;\n",
              "    }\n",
              "\n",
              "    .colab-df-convert {\n",
              "      background-color: #E8F0FE;\n",
              "      border: none;\n",
              "      border-radius: 50%;\n",
              "      cursor: pointer;\n",
              "      display: none;\n",
              "      fill: #1967D2;\n",
              "      height: 32px;\n",
              "      padding: 0 0 0 0;\n",
              "      width: 32px;\n",
              "    }\n",
              "\n",
              "    .colab-df-convert:hover {\n",
              "      background-color: #E2EBFA;\n",
              "      box-shadow: 0px 1px 2px rgba(60, 64, 67, 0.3), 0px 1px 3px 1px rgba(60, 64, 67, 0.15);\n",
              "      fill: #174EA6;\n",
              "    }\n",
              "\n",
              "    [theme=dark] .colab-df-convert {\n",
              "      background-color: #3B4455;\n",
              "      fill: #D2E3FC;\n",
              "    }\n",
              "\n",
              "    [theme=dark] .colab-df-convert:hover {\n",
              "      background-color: #434B5C;\n",
              "      box-shadow: 0px 1px 3px 1px rgba(0, 0, 0, 0.15);\n",
              "      filter: drop-shadow(0px 1px 2px rgba(0, 0, 0, 0.3));\n",
              "      fill: #FFFFFF;\n",
              "    }\n",
              "  </style>\n",
              "\n",
              "      <script>\n",
              "        const buttonEl =\n",
              "          document.querySelector('#df-5b3a0cff-fda0-47df-867c-3dd3baca1a1b button.colab-df-convert');\n",
              "        buttonEl.style.display =\n",
              "          google.colab.kernel.accessAllowed ? 'block' : 'none';\n",
              "\n",
              "        async function convertToInteractive(key) {\n",
              "          const element = document.querySelector('#df-5b3a0cff-fda0-47df-867c-3dd3baca1a1b');\n",
              "          const dataTable =\n",
              "            await google.colab.kernel.invokeFunction('convertToInteractive',\n",
              "                                                     [key], {});\n",
              "          if (!dataTable) return;\n",
              "\n",
              "          const docLinkHtml = 'Like what you see? Visit the ' +\n",
              "            '<a target=\"_blank\" href=https://colab.research.google.com/notebooks/data_table.ipynb>data table notebook</a>'\n",
              "            + ' to learn more about interactive tables.';\n",
              "          element.innerHTML = '';\n",
              "          dataTable['output_type'] = 'display_data';\n",
              "          await google.colab.output.renderOutput(dataTable, element);\n",
              "          const docLink = document.createElement('div');\n",
              "          docLink.innerHTML = docLinkHtml;\n",
              "          element.appendChild(docLink);\n",
              "        }\n",
              "      </script>\n",
              "    </div>\n",
              "  </div>\n",
              "  "
            ],
            "text/plain": [
              "   Parent 1 Highest Grade  Race  ...  First Marijuana Use  Income 2018\n",
              "0                      12     3  ...                   -5           -5\n",
              "1                       8     3  ...                   -4        25000\n",
              "2                      10     3  ...                   12        80000\n",
              "3                      10     3  ...                   -5            0\n",
              "4                      13     3  ...                   -5           -5\n",
              "\n",
              "[5 rows x 15 columns]"
            ]
          },
          "metadata": {},
          "execution_count": 119
        }
      ],
      "source": [
        "data.head()"
      ]
    },
    {
      "cell_type": "code",
      "execution_count": 120,
      "id": "1c3302d1",
      "metadata": {
        "id": "1c3302d1"
      },
      "outputs": [],
      "source": [
        "# data cleanUp 1: change all negative values to -1 (~ N/A)\n",
        "for col in data:\n",
        "    # for each column\n",
        "    data.loc[(data[col] < 0), col] = -1\n",
        "\n",
        "# data cleanUp 2: drop all rows where Income 2018 is N/A (i.e. -1)\n",
        "    data.drop(data[data[\"Income 2018\"] < 0].index, inplace=True)\n",
        "    \n",
        "# data cleanUp 3: separate y (Income 2018) from features (rest of columns)\n",
        "y = list(data[\"Income 2018\"])\n",
        "data = data.drop(\"Income 2018\", axis=1)"
      ]
    },
    {
      "cell_type": "code",
      "source": [
        "# data.reset_index(inplace=True)"
      ],
      "metadata": {
        "id": "RlvuYE9s0DRm"
      },
      "id": "RlvuYE9s0DRm",
      "execution_count": 122,
      "outputs": []
    },
    {
      "cell_type": "code",
      "execution_count": 91,
      "id": "ac8de0d6",
      "metadata": {
        "id": "ac8de0d6"
      },
      "outputs": [],
      "source": [
        "data = data.sample(frac = 1, random_state = 2) # we shuffle the data so that our train/test split will be truly random\n",
        "y = y.sample(frac = 1)"
      ]
    },
    {
      "cell_type": "code",
      "execution_count": 125,
      "id": "e1074dd0",
      "metadata": {
        "colab": {
          "base_uri": "https://localhost:8080/"
        },
        "id": "e1074dd0",
        "outputId": "6a3de3b5-d652-44a2-810a-da1e934ceffa"
      },
      "outputs": [
        {
          "output_type": "stream",
          "name": "stdout",
          "text": [
            "Size of dataset:  6571\n",
            "(5256, 16) (657, 16) (658, 16)\n",
            "<bound method NDFrame.head of       level_0  index  ...  Number Siblings  First Marijuana Use\n",
            "5256     5256   8585  ...                4                   -1\n",
            "5257     5257   8587  ...                4                   17\n",
            "5258     5258   8596  ...                8                   16\n",
            "5259     5259   8603  ...                4                   14\n",
            "5260     5260   8604  ...                4                   -1\n",
            "...       ...    ...  ...              ...                  ...\n",
            "5908     5908  10072  ...                7                   20\n",
            "5909     5909  10074  ...                8                   16\n",
            "5910     5910  10076  ...                5                   -1\n",
            "5911     5911  10077  ...                5                   -1\n",
            "5912     5912  10078  ...                4                   -1\n",
            "\n",
            "[657 rows x 16 columns]>\n"
          ]
        }
      ],
      "source": [
        "train_proportion = 0.8\n",
        "valid_proportion = .1\n",
        "n = len(data)\n",
        "print('Size of dataset: ', str(n))\n",
        "\n",
        "# Put the first ntrain observations in the DataFrame df into the training set, and the rest into the test set\n",
        "t = int(train_proportion * n)\n",
        "v = int(valid_proportion * n)\n",
        "\n",
        "target = y\n",
        "\n",
        "# Split into x and y training, validation, and test sets\n",
        "train_x = data.iloc[:t]\n",
        "test_x = data.iloc[(v+t):]\n",
        "valid_x = data.iloc[t:(v+t)]\n",
        "valid_y = target[t:(v+t)]\n",
        "train_y = target[:t]\n",
        "test_y = target[(v+t):]\n",
        "\n",
        "print(train_x.shape,valid_x.shape,test_x.shape)\n",
        "print(valid_x.head)"
      ]
    },
    {
      "cell_type": "code",
      "execution_count": 126,
      "id": "513e407c",
      "metadata": {
        "colab": {
          "base_uri": "https://localhost:8080/",
          "height": 296
        },
        "id": "513e407c",
        "outputId": "a4f211a2-95b3-4198-d272-40e9f407ceb2"
      },
      "outputs": [
        {
          "output_type": "stream",
          "name": "stdout",
          "text": [
            "w = [-76821.1571673    9051.22366675]\n"
          ]
        },
        {
          "output_type": "display_data",
          "data": {
            "image/png": "[encoded data removed]",
            "text/plain": [
              "<Figure size 432x288 with 1 Axes>"
            ]
          },
          "metadata": {
            "needs_background": "light"
          }
        }
      ],
      "source": [
        "# fit an example linear model: use Highest Grade to predict Income 2018\n",
        "\n",
        "# 1. fill in N/As in Highest Grade with Average Grade of all interviewees\n",
        "x = np.asarray(data.loc[:, \"Highest Grade\"])\n",
        "mean = np.mean(x)\n",
        "x[x < 0] = mean\n",
        "\n",
        "# 2. fit the linear model\n",
        "x = np.reshape(x, (len(x), 1))\n",
        "x = np.concatenate([np.ones(x.shape), x], axis=1) # add offset\n",
        "w = np.linalg.solve(np.matmul(x.T, x), x.T@y)\n",
        "print('w = ' + str(w))\n",
        "\n",
        "# 3. plot the Grade - Income model\n",
        "xfp = np.arange(np.min(x), np.max(x) + 0.1, 0.1)\n",
        "vals = np.asarray([w[0] + w[1]*xfp[i] for i in range(len(xfp))])\n",
        "vals[vals < 0] = 0 # attenuate negative predicted income to 0. Otherwise negative income does not make sense.\n",
        "plt.plot(xfp, vals)\n",
        "plt.ylabel(\"Income 2018 Predicted\")\n",
        "plt.xlabel(\"Highest Grade Achieved\")\n",
        "plt.show()"
      ]
    },
    {
      "cell_type": "code",
      "execution_count": 129,
      "id": "e05309e5",
      "metadata": {
        "id": "e05309e5"
      },
      "outputs": [],
      "source": [
        "labels_real = [\n",
        "    'Parent 1 Highest Grade',\n",
        "#    'Self Esteem Score',\n",
        "#    'AFQT Percentile Score',\n",
        "#    'Average Drinks 2008',\n",
        "    'Highest Grade',\n",
        "#    'Fam Size 1979',\n",
        "#    'Number Siblings',\n",
        "    'Foreign Language']\n",
        "#    'Library Card',\n",
        "#    'Parent Cohabitation',\n",
        "#    'First Marijuana Use']\n",
        "\n",
        "for label in labels_real:\n",
        "    x = np.asarray(data.loc[:, label])\n",
        "    mean = np.mean(x)\n",
        "    x[x < 0] = mean"
      ]
    },
    {
      "cell_type": "code",
      "execution_count": 130,
      "id": "7c386dee",
      "metadata": {
        "id": "7c386dee"
      },
      "outputs": [],
      "source": [
        "labels_cat = [\n",
        "    'Race',\n",
        "    'Sex',\n",
        "    'Type of Residence 1983']\n",
        "\n",
        "for label in labels_cat:\n",
        "    x = np.asarray(data.loc[:, label])\n",
        "    x[x < 0] = 0"
      ]
    },
    {
      "cell_type": "code",
      "execution_count": 131,
      "id": "2d3ca701",
      "metadata": {
        "colab": {
          "base_uri": "https://localhost:8080/"
        },
        "id": "2d3ca701",
        "outputId": "3961080e-bce9-417a-c235-c42da2ef64c2"
      },
      "outputs": [
        {
          "output_type": "stream",
          "name": "stdout",
          "text": [
            "(5256, 18) [[0. 1. 0. ... 0. 0. 0.]\n",
            " [0. 1. 0. ... 0. 0. 0.]\n",
            " [0. 1. 0. ... 0. 0. 0.]\n",
            " ...\n",
            " [0. 0. 0. ... 0. 0. 0.]\n",
            " [0. 0. 0. ... 0. 0. 0.]\n",
            " [0. 0. 0. ... 0. 0. 0.]]\n",
            "(657, 18) [[0. 0. 0. ... 0. 0. 0.]\n",
            " [0. 0. 0. ... 0. 0. 0.]\n",
            " [0. 0. 0. ... 0. 0. 0.]\n",
            " ...\n",
            " [0. 0. 1. ... 0. 0. 0.]\n",
            " [0. 0. 1. ... 0. 0. 0.]\n",
            " [0. 0. 1. ... 0. 0. 0.]]\n",
            "(658, 18) [[0. 0. 0. ... 0. 0. 0.]\n",
            " [0. 0. 0. ... 0. 0. 0.]\n",
            " [0. 0. 0. ... 0. 0. 0.]\n",
            " ...\n",
            " [0. 1. 0. ... 0. 0. 0.]\n",
            " [0. 0. 1. ... 0. 0. 0.]\n",
            " [0. 0. 0. ... 0. 0. 0.]]\n"
          ]
        }
      ],
      "source": [
        "cats_sets = [train_x.loc[:, label].fillna('NaN').unique() for label in labels_cat]\n",
        "\n",
        "def onehot(column=None, col=None):\n",
        "    column = column.astype(pd.CategoricalDtype(categories = col))\n",
        "    one_hot = pd.get_dummies(column)      \n",
        "    return np.asarray(one_hot)\n",
        "\n",
        "d = np.zeros((len(train_x),1))\n",
        "for i in range(len(labels_cat)):\n",
        "  d = np.concatenate((d,onehot(train_x[labels_cat[i]],cats_sets[i])),axis=1)\n",
        "print(d.shape,d)\n",
        "\n",
        "l = np.zeros((len(valid_x),1))\n",
        "for i in range(len(labels_cat)):\n",
        "  l = np.concatenate((l,onehot(valid_x[labels_cat[i]],cats_sets[i])),axis=1)\n",
        "print(l.shape,l)\n",
        "\n",
        "s = np.zeros((len(test_x),1))\n",
        "for i in range(len(labels_cat)):\n",
        "  s = np.concatenate((s,onehot(test_x[labels_cat[i]],cats_sets[i])),axis=1)\n",
        "print(s.shape,s)"
      ]
    },
    {
      "cell_type": "code",
      "execution_count": 132,
      "id": "20fac9d3",
      "metadata": {
        "id": "20fac9d3"
      },
      "outputs": [],
      "source": [
        "train_labels = np.concatenate((train_x[labels_real], d[:,1:]),axis=1)\n",
        "valid_labels = np.concatenate((valid_x[labels_real], l[:,1:]),axis=1)\n",
        "test_labels = np.concatenate((test_x[labels_real], s[:,1:]),axis=1)"
      ]
    },
    {
      "cell_type": "code",
      "execution_count": null,
      "id": "b8056324",
      "metadata": {
        "id": "b8056324"
      },
      "outputs": [],
      "source": [
        "# Fit the linear model\n",
        "def lin_model(train_x, y, test_x, length):\n",
        "    X = np.column_stack([train_x, np.ones(length)])\n",
        "    w = np.linalg.lstsq(X, y,rcond = None)[0]\n",
        "    pred = np.matmul(test_x,w[:-1])\n",
        "    return pred\n",
        "\n",
        "# Return mean squared error\n",
        "def MSE(y, pred):\n",
        "    return (np.mean(np.power(np.subtract(y,pred),2)))"
      ]
    },
    {
      "cell_type": "code",
      "execution_count": null,
      "id": "5e99726a",
      "metadata": {
        "colab": {
          "base_uri": "https://localhost:8080/"
        },
        "id": "5e99726a",
        "outputId": "399f1c6b-b12b-43e7-9001-9092cd78862e"
      },
      "outputs": [
        {
          "output_type": "stream",
          "name": "stdout",
          "text": [
            "4917815086.299643\n",
            "5152622606.792143\n",
            "39900.22144706821\n"
          ]
        }
      ],
      "source": [
        "train_pred = lin_model(train_labels,train_y,train_labels,t)\n",
        "print(MSE(train_y,train_pred))\n",
        "valid_pred = lin_model(train_labels,train_y,valid_labels,t)\n",
        "print(MSE(valid_y,valid_pred))\n",
        "print((np.mean(np.abs(np.subtract(valid_y,valid_pred)))))"
      ]
    },
    {
      "cell_type": "markdown",
      "source": [
        "## Linear Regression"
      ],
      "metadata": {
        "id": "Dqb9ksPDZUTS"
      },
      "id": "Dqb9ksPDZUTS"
    },
    {
      "cell_type": "code",
      "source": [
        "from sklearn.linear_model import LinearRegression\n",
        "from sklearn.metrics import mean_squared_error\n",
        "import math"
      ],
      "metadata": {
        "id": "oAd6Uc94ZTB-"
      },
      "id": "oAd6Uc94ZTB-",
      "execution_count": 72,
      "outputs": []
    },
    {
      "cell_type": "code",
      "source": [
        "train_data = np.concatenate((train_labels,valid_labels),axis = 0)\n",
        "train_label = np.concatenate((train_y,valid_y),axis = 0)\n",
        "print(train_data.shape, train_label.shape)"
      ],
      "metadata": {
        "colab": {
          "base_uri": "https://localhost:8080/"
        },
        "id": "HXvB8o6gW-bL",
        "outputId": "b69ced21-7b14-4494-d4b5-4dd8c3604fde"
      },
      "id": "HXvB8o6gW-bL",
      "execution_count": 73,
      "outputs": [
        {
          "output_type": "stream",
          "name": "stdout",
          "text": [
            "(5913, 20) (5913,)\n"
          ]
        }
      ]
    },
    {
      "cell_type": "code",
      "source": [
        "lr = LinearRegression().fit(train_data, train_label)\n",
        "pred = lr.predict(test_labels)"
      ],
      "metadata": {
        "id": "OIz9-vIGbm2Z"
      },
      "id": "OIz9-vIGbm2Z",
      "execution_count": 74,
      "outputs": []
    },
    {
      "cell_type": "code",
      "source": [
        "print(\"MSE :\",mean_squared_error(pred,test_y))\n",
        "print(\"RMSE\",math.sqrt(mean_squared_error(pred, test_y)))"
      ],
      "metadata": {
        "colab": {
          "base_uri": "https://localhost:8080/"
        },
        "id": "hQxrRnEabxfj",
        "outputId": "489530ec-d409-4756-dcd4-4de2926eb159"
      },
      "id": "hQxrRnEabxfj",
      "execution_count": 75,
      "outputs": [
        {
          "output_type": "stream",
          "name": "stdout",
          "text": [
            "MSE : 3963709704.370135\n",
            "RMSE 62957.99952643139\n"
          ]
        }
      ]
    },
    {
      "cell_type": "markdown",
      "source": [
        "## Decision TreeRegressor"
      ],
      "metadata": {
        "id": "rad9Tkx1clLc"
      },
      "id": "rad9Tkx1clLc"
    },
    {
      "cell_type": "code",
      "source": [
        "from sklearn.tree import DecisionTreeRegressor"
      ],
      "metadata": {
        "id": "lSs359z6cQVD"
      },
      "id": "lSs359z6cQVD",
      "execution_count": null,
      "outputs": []
    },
    {
      "cell_type": "code",
      "source": [
        "lr = DecisionTreeRegressor(max_depth=2).fit(train_data, train_label)\n",
        "pred = lr.predict(test_labels)\n",
        "print(\"MSE :\",mean_squared_error(pred,test_y))\n",
        "print(\"RMSE\",math.sqrt(mean_squared_error(pred, test_y)))"
      ],
      "metadata": {
        "colab": {
          "base_uri": "https://localhost:8080/"
        },
        "id": "HThGY8ddcrgA",
        "outputId": "eaae1b56-0533-47ca-a9fa-ae1818a19b90"
      },
      "id": "HThGY8ddcrgA",
      "execution_count": null,
      "outputs": [
        {
          "output_type": "stream",
          "name": "stdout",
          "text": [
            "MSE : 3664468649.775738\n",
            "RMSE 60534.85483401887\n"
          ]
        }
      ]
    },
    {
      "cell_type": "markdown",
      "source": [
        "## SVR"
      ],
      "metadata": {
        "id": "zad3tYG5c4N-"
      },
      "id": "zad3tYG5c4N-"
    },
    {
      "cell_type": "code",
      "source": [
        "from sklearn.svm import SVR"
      ],
      "metadata": {
        "id": "D-0N1OKwcztS"
      },
      "id": "D-0N1OKwcztS",
      "execution_count": null,
      "outputs": []
    },
    {
      "cell_type": "code",
      "source": [
        "lr = SVR().fit(train_data, train_label)\n",
        "pred = lr.predict(test_labels)\n",
        "print(\"MSE :\",mean_squared_error(pred,test_y))\n",
        "print(\"RMSE\",math.sqrt(mean_squared_error(pred, test_y)))"
      ],
      "metadata": {
        "colab": {
          "base_uri": "https://localhost:8080/"
        },
        "id": "buzJsKi9c7wi",
        "outputId": "8b353550-db92-4406-f5e0-69913a0b0df9"
      },
      "id": "buzJsKi9c7wi",
      "execution_count": null,
      "outputs": [
        {
          "output_type": "stream",
          "name": "stdout",
          "text": [
            "MSE : 3917871960.804342\n",
            "RMSE 62592.90663329465\n"
          ]
        }
      ]
    },
    {
      "cell_type": "markdown",
      "source": [
        "## Laso Regressor"
      ],
      "metadata": {
        "id": "JTPPpdALdDjE"
      },
      "id": "JTPPpdALdDjE"
    },
    {
      "cell_type": "code",
      "source": [
        "from sklearn import linear_model"
      ],
      "metadata": {
        "id": "_2w7sEW_dBXU"
      },
      "id": "_2w7sEW_dBXU",
      "execution_count": null,
      "outputs": []
    },
    {
      "cell_type": "code",
      "source": [
        "lassoReg = linear_model.Lasso(alpha=0.1)\n",
        "lr = lassoReg.fit(train_data, train_label)\n",
        "pred = lr.predict(test_labels)\n",
        "print(\"MSE :\",mean_squared_error(pred,test_y))\n",
        "print(\"RMSE\",math.sqrt(mean_squared_error(pred, test_y)))"
      ],
      "metadata": {
        "colab": {
          "base_uri": "https://localhost:8080/"
        },
        "id": "-nq8OLYKdJMX",
        "outputId": "8488d719-993c-4770-e033-e8f7b8c31254"
      },
      "id": "-nq8OLYKdJMX",
      "execution_count": null,
      "outputs": [
        {
          "output_type": "stream",
          "name": "stdout",
          "text": [
            "MSE : 3658663593.267872\n",
            "RMSE 60486.887779649165\n"
          ]
        },
        {
          "output_type": "stream",
          "name": "stderr",
          "text": [
            "/usr/local/lib/python3.7/dist-packages/sklearn/linear_model/_coordinate_descent.py:648: ConvergenceWarning: Objective did not converge. You might want to increase the number of iterations, check the scale of the features or consider increasing regularisation. Duality gap: 9.977e+11, tolerance: 2.541e+09\n",
            "  coef_, l1_reg, l2_reg, X, y, max_iter, tol, rng, random, positive\n"
          ]
        }
      ]
    },
    {
      "cell_type": "markdown",
      "source": [
        "## Random Forest Regressor"
      ],
      "metadata": {
        "id": "UaFp2GCNdSid"
      },
      "id": "UaFp2GCNdSid"
    },
    {
      "cell_type": "code",
      "source": [
        "from sklearn.ensemble import RandomForestRegressor\n",
        "from sklearn.datasets import make_regression\n",
        "X, y = make_regression(n_features=20, n_informative=10, random_state=0, shuffle=False)\n",
        "rfr = RandomForestRegressor(max_depth=3)"
      ],
      "metadata": {
        "id": "RjfNYIC1dQgB"
      },
      "id": "RjfNYIC1dQgB",
      "execution_count": null,
      "outputs": []
    },
    {
      "cell_type": "code",
      "source": [
        "lr = rfr.fit(X, y)\n",
        "pred = lr.predict(test_labels)\n",
        "print(\"MSE :\",mean_squared_error(pred,test_y))\n",
        "print(\"RMSE\",math.sqrt(mean_squared_error(pred, test_y)))"
      ],
      "metadata": {
        "colab": {
          "base_uri": "https://localhost:8080/"
        },
        "id": "H0feVGRDdcDQ",
        "outputId": "8376397c-5f24-4fe6-cf96-cbb3e3fca31f"
      },
      "id": "H0feVGRDdcDQ",
      "execution_count": null,
      "outputs": [
        {
          "output_type": "stream",
          "name": "stdout",
          "text": [
            "MSE : 5675218195.787059\n",
            "RMSE 75334.04406898025\n"
          ]
        }
      ]
    },
    {
      "cell_type": "markdown",
      "source": [
        "## Income for 2019"
      ],
      "metadata": {
        "id": "sETLKfDrx38W"
      },
      "id": "sETLKfDrx38W"
    },
    {
      "cell_type": "code",
      "source": [
        "train_data = np.concatenate((train_labels,valid_labels,test_labels),axis = 0)\n",
        "print(train_data.shape)"
      ],
      "metadata": {
        "colab": {
          "base_uri": "https://localhost:8080/"
        },
        "outputId": "d3b627ca-ef5b-4cb5-cc85-c2da93234622",
        "id": "S50swzOryb8j"
      },
      "execution_count": 136,
      "outputs": [
        {
          "output_type": "stream",
          "name": "stdout",
          "text": [
            "(6571, 20)\n"
          ]
        }
      ],
      "id": "S50swzOryb8j"
    },
    {
      "cell_type": "code",
      "source": [
        "# lr = LinearRegression().fit(train_data, train_label)\n",
        "pred = lr.predict(train_data)"
      ],
      "metadata": {
        "id": "hgx11nxcyb82"
      },
      "execution_count": 137,
      "outputs": [],
      "id": "hgx11nxcyb82"
    },
    {
      "cell_type": "code",
      "source": [
        "data['Income of 2018'] = y\n",
        "data['Income of 2019'] = pred\n",
        "data.head(10)"
      ],
      "metadata": {
        "colab": {
          "base_uri": "https://localhost:8080/",
          "height": 442
        },
        "id": "ZQYKjUaczPsJ",
        "outputId": "13132a4e-ce59-406e-d6c0-bfbc7e4a8c28"
      },
      "id": "ZQYKjUaczPsJ",
      "execution_count": 140,
      "outputs": [
        {
          "output_type": "execute_result",
          "data": {
            "text/html": [
              "\n",
              "  <div id=\"df-051daf87-1fb5-4134-83a1-77cb8f188a48\">\n",
              "    <div class=\"colab-df-container\">\n",
              "      <div>\n",
              "<style scoped>\n",
              "    .dataframe tbody tr th:only-of-type {\n",
              "        vertical-align: middle;\n",
              "    }\n",
              "\n",
              "    .dataframe tbody tr th {\n",
              "        vertical-align: top;\n",
              "    }\n",
              "\n",
              "    .dataframe thead th {\n",
              "        text-align: right;\n",
              "    }\n",
              "</style>\n",
              "<table border=\"1\" class=\"dataframe\">\n",
              "  <thead>\n",
              "    <tr style=\"text-align: right;\">\n",
              "      <th></th>\n",
              "      <th>level_0</th>\n",
              "      <th>index</th>\n",
              "      <th>Parent 1 Highest Grade</th>\n",
              "      <th>Race</th>\n",
              "      <th>Sex</th>\n",
              "      <th>Self Esteem Score</th>\n",
              "      <th>AFQT Percentile Score</th>\n",
              "      <th>Type of Residence 1983</th>\n",
              "      <th>Average Drinks 2008</th>\n",
              "      <th>Highest Grade</th>\n",
              "      <th>Fam Size 1979</th>\n",
              "      <th>Foreign Language</th>\n",
              "      <th>Library Card</th>\n",
              "      <th>Parent Cohabitation</th>\n",
              "      <th>Number Siblings</th>\n",
              "      <th>First Marijuana Use</th>\n",
              "      <th>Income of 2019</th>\n",
              "      <th>Income of 2018</th>\n",
              "    </tr>\n",
              "  </thead>\n",
              "  <tbody>\n",
              "    <tr>\n",
              "      <th>0</th>\n",
              "      <td>0</td>\n",
              "      <td>1</td>\n",
              "      <td>8</td>\n",
              "      <td>3</td>\n",
              "      <td>2</td>\n",
              "      <td>16</td>\n",
              "      <td>6841</td>\n",
              "      <td>0</td>\n",
              "      <td>-1</td>\n",
              "      <td>12</td>\n",
              "      <td>5</td>\n",
              "      <td>1</td>\n",
              "      <td>1</td>\n",
              "      <td>-1</td>\n",
              "      <td>8</td>\n",
              "      <td>-1</td>\n",
              "      <td>45069.260695</td>\n",
              "      <td>25000</td>\n",
              "    </tr>\n",
              "    <tr>\n",
              "      <th>1</th>\n",
              "      <td>1</td>\n",
              "      <td>2</td>\n",
              "      <td>10</td>\n",
              "      <td>3</td>\n",
              "      <td>2</td>\n",
              "      <td>20</td>\n",
              "      <td>49444</td>\n",
              "      <td>11</td>\n",
              "      <td>2</td>\n",
              "      <td>12</td>\n",
              "      <td>5</td>\n",
              "      <td>0</td>\n",
              "      <td>1</td>\n",
              "      <td>-1</td>\n",
              "      <td>3</td>\n",
              "      <td>12</td>\n",
              "      <td>44130.897964</td>\n",
              "      <td>80000</td>\n",
              "    </tr>\n",
              "    <tr>\n",
              "      <th>2</th>\n",
              "      <td>2</td>\n",
              "      <td>3</td>\n",
              "      <td>10</td>\n",
              "      <td>3</td>\n",
              "      <td>2</td>\n",
              "      <td>-1</td>\n",
              "      <td>55761</td>\n",
              "      <td>11</td>\n",
              "      <td>-1</td>\n",
              "      <td>14</td>\n",
              "      <td>5</td>\n",
              "      <td>0</td>\n",
              "      <td>0</td>\n",
              "      <td>-1</td>\n",
              "      <td>3</td>\n",
              "      <td>-1</td>\n",
              "      <td>43878.658777</td>\n",
              "      <td>0</td>\n",
              "    </tr>\n",
              "    <tr>\n",
              "      <th>3</th>\n",
              "      <td>3</td>\n",
              "      <td>5</td>\n",
              "      <td>12</td>\n",
              "      <td>3</td>\n",
              "      <td>1</td>\n",
              "      <td>27</td>\n",
              "      <td>99393</td>\n",
              "      <td>17</td>\n",
              "      <td>2</td>\n",
              "      <td>16</td>\n",
              "      <td>4</td>\n",
              "      <td>0</td>\n",
              "      <td>1</td>\n",
              "      <td>-1</td>\n",
              "      <td>1</td>\n",
              "      <td>17</td>\n",
              "      <td>41942.133409</td>\n",
              "      <td>117000</td>\n",
              "    </tr>\n",
              "    <tr>\n",
              "      <th>4</th>\n",
              "      <td>4</td>\n",
              "      <td>7</td>\n",
              "      <td>12</td>\n",
              "      <td>3</td>\n",
              "      <td>2</td>\n",
              "      <td>23</td>\n",
              "      <td>44022</td>\n",
              "      <td>11</td>\n",
              "      <td>8</td>\n",
              "      <td>14</td>\n",
              "      <td>3</td>\n",
              "      <td>1</td>\n",
              "      <td>1</td>\n",
              "      <td>1</td>\n",
              "      <td>7</td>\n",
              "      <td>15</td>\n",
              "      <td>43488.234041</td>\n",
              "      <td>51313</td>\n",
              "    </tr>\n",
              "    <tr>\n",
              "      <th>5</th>\n",
              "      <td>5</td>\n",
              "      <td>14</td>\n",
              "      <td>8</td>\n",
              "      <td>3</td>\n",
              "      <td>1</td>\n",
              "      <td>23</td>\n",
              "      <td>82260</td>\n",
              "      <td>3</td>\n",
              "      <td>3</td>\n",
              "      <td>16</td>\n",
              "      <td>4</td>\n",
              "      <td>0</td>\n",
              "      <td>1</td>\n",
              "      <td>-1</td>\n",
              "      <td>1</td>\n",
              "      <td>-1</td>\n",
              "      <td>43070.479445</td>\n",
              "      <td>0</td>\n",
              "    </tr>\n",
              "    <tr>\n",
              "      <th>6</th>\n",
              "      <td>6</td>\n",
              "      <td>15</td>\n",
              "      <td>12</td>\n",
              "      <td>3</td>\n",
              "      <td>2</td>\n",
              "      <td>25</td>\n",
              "      <td>50283</td>\n",
              "      <td>17</td>\n",
              "      <td>2</td>\n",
              "      <td>13</td>\n",
              "      <td>4</td>\n",
              "      <td>0</td>\n",
              "      <td>1</td>\n",
              "      <td>-1</td>\n",
              "      <td>3</td>\n",
              "      <td>17</td>\n",
              "      <td>41270.461809</td>\n",
              "      <td>90000</td>\n",
              "    </tr>\n",
              "    <tr>\n",
              "      <th>7</th>\n",
              "      <td>7</td>\n",
              "      <td>16</td>\n",
              "      <td>13</td>\n",
              "      <td>3</td>\n",
              "      <td>1</td>\n",
              "      <td>24</td>\n",
              "      <td>89669</td>\n",
              "      <td>0</td>\n",
              "      <td>-1</td>\n",
              "      <td>13</td>\n",
              "      <td>2</td>\n",
              "      <td>0</td>\n",
              "      <td>1</td>\n",
              "      <td>-1</td>\n",
              "      <td>2</td>\n",
              "      <td>16</td>\n",
              "      <td>44569.670662</td>\n",
              "      <td>69000</td>\n",
              "    </tr>\n",
              "    <tr>\n",
              "      <th>8</th>\n",
              "      <td>8</td>\n",
              "      <td>17</td>\n",
              "      <td>12</td>\n",
              "      <td>3</td>\n",
              "      <td>1</td>\n",
              "      <td>28</td>\n",
              "      <td>95977</td>\n",
              "      <td>11</td>\n",
              "      <td>3</td>\n",
              "      <td>13</td>\n",
              "      <td>1</td>\n",
              "      <td>0</td>\n",
              "      <td>1</td>\n",
              "      <td>-1</td>\n",
              "      <td>2</td>\n",
              "      <td>14</td>\n",
              "      <td>44536.544307</td>\n",
              "      <td>150000</td>\n",
              "    </tr>\n",
              "    <tr>\n",
              "      <th>9</th>\n",
              "      <td>9</td>\n",
              "      <td>20</td>\n",
              "      <td>11</td>\n",
              "      <td>3</td>\n",
              "      <td>2</td>\n",
              "      <td>28</td>\n",
              "      <td>88416</td>\n",
              "      <td>17</td>\n",
              "      <td>2</td>\n",
              "      <td>16</td>\n",
              "      <td>5</td>\n",
              "      <td>0</td>\n",
              "      <td>1</td>\n",
              "      <td>-1</td>\n",
              "      <td>2</td>\n",
              "      <td>15</td>\n",
              "      <td>41151.235250</td>\n",
              "      <td>0</td>\n",
              "    </tr>\n",
              "  </tbody>\n",
              "</table>\n",
              "</div>\n",
              "      <button class=\"colab-df-convert\" onclick=\"convertToInteractive('df-051daf87-1fb5-4134-83a1-77cb8f188a48')\"\n",
              "              title=\"Convert this dataframe to an interactive table.\"\n",
              "              style=\"display:none;\">\n",
              "        \n",
              "  <svg xmlns=\"http://www.w3.org/2000/svg\" height=\"24px\"viewBox=\"0 0 24 24\"\n",
              "       width=\"24px\">\n",
              "    <path d=\"M0 0h24v24H0V0z\" fill=\"none\"/>\n",
              "    <path d=\"M18.56 5.44l.94 2.06.94-2.06 2.06-.94-2.06-.94-.94-2.06-.94 2.06-2.06.94zm-11 1L8.5 8.5l.94-2.06 2.06-.94-2.06-.94L8.5 2.5l-.94 2.06-2.06.94zm10 10l.94 2.06.94-2.06 2.06-.94-2.06-.94-.94-2.06-.94 2.06-2.06.94z\"/><path d=\"M17.41 7.96l-1.37-1.37c-.4-.4-.92-.59-1.43-.59-.52 0-1.04.2-1.43.59L10.3 9.45l-7.72 7.72c-.78.78-.78 2.05 0 2.83L4 21.41c.39.39.9.59 1.41.59.51 0 1.02-.2 1.41-.59l7.78-7.78 2.81-2.81c.8-.78.8-2.07 0-2.86zM5.41 20L4 18.59l7.72-7.72 1.47 1.35L5.41 20z\"/>\n",
              "  </svg>\n",
              "      </button>\n",
              "      \n",
              "  <style>\n",
              "    .colab-df-container {\n",
              "      display:flex;\n",
              "      flex-wrap:wrap;\n",
              "      gap: 12px;\n",
              "    }\n",
              "\n",
              "    .colab-df-convert {\n",
              "      background-color: #E8F0FE;\n",
              "      border: none;\n",
              "      border-radius: 50%;\n",
              "      cursor: pointer;\n",
              "      display: none;\n",
              "      fill: #1967D2;\n",
              "      height: 32px;\n",
              "      padding: 0 0 0 0;\n",
              "      width: 32px;\n",
              "    }\n",
              "\n",
              "    .colab-df-convert:hover {\n",
              "      background-color: #E2EBFA;\n",
              "      box-shadow: 0px 1px 2px rgba(60, 64, 67, 0.3), 0px 1px 3px 1px rgba(60, 64, 67, 0.15);\n",
              "      fill: #174EA6;\n",
              "    }\n",
              "\n",
              "    [theme=dark] .colab-df-convert {\n",
              "      background-color: #3B4455;\n",
              "      fill: #D2E3FC;\n",
              "    }\n",
              "\n",
              "    [theme=dark] .colab-df-convert:hover {\n",
              "      background-color: #434B5C;\n",
              "      box-shadow: 0px 1px 3px 1px rgba(0, 0, 0, 0.15);\n",
              "      filter: drop-shadow(0px 1px 2px rgba(0, 0, 0, 0.3));\n",
              "      fill: #FFFFFF;\n",
              "    }\n",
              "  </style>\n",
              "\n",
              "      <script>\n",
              "        const buttonEl =\n",
              "          document.querySelector('#df-051daf87-1fb5-4134-83a1-77cb8f188a48 button.colab-df-convert');\n",
              "        buttonEl.style.display =\n",
              "          google.colab.kernel.accessAllowed ? 'block' : 'none';\n",
              "\n",
              "        async function convertToInteractive(key) {\n",
              "          const element = document.querySelector('#df-051daf87-1fb5-4134-83a1-77cb8f188a48');\n",
              "          const dataTable =\n",
              "            await google.colab.kernel.invokeFunction('convertToInteractive',\n",
              "                                                     [key], {});\n",
              "          if (!dataTable) return;\n",
              "\n",
              "          const docLinkHtml = 'Like what you see? Visit the ' +\n",
              "            '<a target=\"_blank\" href=https://colab.research.google.com/notebooks/data_table.ipynb>data table notebook</a>'\n",
              "            + ' to learn more about interactive tables.';\n",
              "          element.innerHTML = '';\n",
              "          dataTable['output_type'] = 'display_data';\n",
              "          await google.colab.output.renderOutput(dataTable, element);\n",
              "          const docLink = document.createElement('div');\n",
              "          docLink.innerHTML = docLinkHtml;\n",
              "          element.appendChild(docLink);\n",
              "        }\n",
              "      </script>\n",
              "    </div>\n",
              "  </div>\n",
              "  "
            ],
            "text/plain": [
              "   level_0  index  ...  Income of 2019  Income of 2018\n",
              "0        0      1  ...    45069.260695           25000\n",
              "1        1      2  ...    44130.897964           80000\n",
              "2        2      3  ...    43878.658777               0\n",
              "3        3      5  ...    41942.133409          117000\n",
              "4        4      7  ...    43488.234041           51313\n",
              "5        5     14  ...    43070.479445               0\n",
              "6        6     15  ...    41270.461809           90000\n",
              "7        7     16  ...    44569.670662           69000\n",
              "8        8     17  ...    44536.544307          150000\n",
              "9        9     20  ...    41151.235250               0\n",
              "\n",
              "[10 rows x 18 columns]"
            ]
          },
          "metadata": {},
          "execution_count": 140
        }
      ]
    },
    {
      "cell_type": "code",
      "source": [
        "data.to_csv('/content/test/income_final.csv')"
      ],
      "metadata": {
        "id": "4E-ySLgX1q_j"
      },
      "id": "4E-ySLgX1q_j",
      "execution_count": 141,
      "outputs": []
    },
    {
      "cell_type": "code",
      "source": [
        ""
      ],
      "metadata": {
        "id": "FbNNWIJn150u"
      },
      "id": "FbNNWIJn150u",
      "execution_count": null,
      "outputs": []
    }
  ],
  "metadata": {
    "kernelspec": {
      "display_name": "Python 3",
      "language": "python",
      "name": "python3"
    },
    "language_info": {
      "codemirror_mode": {
        "name": "ipython",
        "version": 3
      },
      "file_extension": ".py",
      "mimetype": "text/x-python",
      "name": "python",
      "nbconvert_exporter": "python",
      "pygments_lexer": "ipython3",
      "version": "3.8.8"
    },
    "colab": {
      "name": "Income Prediction.ipynb",
      "provenance": []
    }
  },
  "nbformat": 4,
  "nbformat_minor": 5
}